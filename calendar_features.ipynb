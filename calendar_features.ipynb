{
 "cells": [
  {
   "cell_type": "code",
   "execution_count": 24,
   "metadata": {},
   "outputs": [],
   "source": [
    "from functions import Schedule\n",
    "import pandas as pd\n",
    "import numpy as np\n",
    "import time\n",
    "from datetime import datetime, timedelta"
   ]
  },
  {
   "cell_type": "markdown",
   "metadata": {},
   "source": [
    "### Create a csv with all caldendars"
   ]
  },
  {
   "cell_type": "code",
   "execution_count": 2,
   "metadata": {},
   "outputs": [
    {
     "name": "stdout",
     "output_type": "stream",
     "text": [
      "Fetching schedule for season 2022-2023 ...\r"
     ]
    }
   ],
   "source": [
    "# Create a dataframe with all schedules from 1979-80 to 2022-23\n",
    "years = np.arange(1979, 2024)\n",
    "dfs = []\n",
    "for year in years :\n",
    "\n",
    "    print(f'Fetching schedule for season {year-1}-{year} ...', end = '\\r')\n",
    "    dfs.append(Schedule(year))\n",
    "    time.sleep(5)\n",
    "\n",
    "data = pd.concat(dfs).reset_index(drop = True)\n",
    "data.to_csv('data/Schedules_1979-2023.csv', index = None)"
   ]
  },
  {
   "cell_type": "markdown",
   "metadata": {},
   "source": [
    "## Calendar features"
   ]
  },
  {
   "cell_type": "code",
   "execution_count": 5,
   "metadata": {},
   "outputs": [
    {
     "data": {
      "text/html": [
       "<div>\n",
       "<style scoped>\n",
       "    .dataframe tbody tr th:only-of-type {\n",
       "        vertical-align: middle;\n",
       "    }\n",
       "\n",
       "    .dataframe tbody tr th {\n",
       "        vertical-align: top;\n",
       "    }\n",
       "\n",
       "    .dataframe thead th {\n",
       "        text-align: right;\n",
       "    }\n",
       "</style>\n",
       "<table border=\"1\" class=\"dataframe\">\n",
       "  <thead>\n",
       "    <tr style=\"text-align: right;\">\n",
       "      <th></th>\n",
       "      <th>Date</th>\n",
       "      <th>Year</th>\n",
       "      <th>HomeTm</th>\n",
       "      <th>AwayTm</th>\n",
       "      <th>Home</th>\n",
       "      <th>Away</th>\n",
       "    </tr>\n",
       "  </thead>\n",
       "  <tbody>\n",
       "    <tr>\n",
       "      <th>0</th>\n",
       "      <td>1978-10-13</td>\n",
       "      <td>1979</td>\n",
       "      <td>DEN</td>\n",
       "      <td>SAS</td>\n",
       "      <td>Denver Nuggets</td>\n",
       "      <td>San Antonio Spurs</td>\n",
       "    </tr>\n",
       "    <tr>\n",
       "      <th>1</th>\n",
       "      <td>1978-10-13</td>\n",
       "      <td>1979</td>\n",
       "      <td>DET</td>\n",
       "      <td>NJN</td>\n",
       "      <td>Detroit Pistons</td>\n",
       "      <td>New Jersey Nets</td>\n",
       "    </tr>\n",
       "    <tr>\n",
       "      <th>2</th>\n",
       "      <td>1978-10-13</td>\n",
       "      <td>1979</td>\n",
       "      <td>IND</td>\n",
       "      <td>ATL</td>\n",
       "      <td>Indiana Pacers</td>\n",
       "      <td>Atlanta Hawks</td>\n",
       "    </tr>\n",
       "    <tr>\n",
       "      <th>3</th>\n",
       "      <td>1978-10-13</td>\n",
       "      <td>1979</td>\n",
       "      <td>NYK</td>\n",
       "      <td>HOU</td>\n",
       "      <td>New York Knicks</td>\n",
       "      <td>Houston Rockets</td>\n",
       "    </tr>\n",
       "    <tr>\n",
       "      <th>4</th>\n",
       "      <td>1978-10-13</td>\n",
       "      <td>1979</td>\n",
       "      <td>PHI</td>\n",
       "      <td>LAL</td>\n",
       "      <td>Philadelphia 76ers</td>\n",
       "      <td>Los Angeles Lakers</td>\n",
       "    </tr>\n",
       "  </tbody>\n",
       "</table>\n",
       "</div>"
      ],
      "text/plain": [
       "         Date  Year HomeTm AwayTm                Home                Away\n",
       "0  1978-10-13  1979    DEN    SAS      Denver Nuggets   San Antonio Spurs\n",
       "1  1978-10-13  1979    DET    NJN     Detroit Pistons     New Jersey Nets\n",
       "2  1978-10-13  1979    IND    ATL      Indiana Pacers       Atlanta Hawks\n",
       "3  1978-10-13  1979    NYK    HOU     New York Knicks     Houston Rockets\n",
       "4  1978-10-13  1979    PHI    LAL  Philadelphia 76ers  Los Angeles Lakers"
      ]
     },
     "execution_count": 5,
     "metadata": {},
     "output_type": "execute_result"
    }
   ],
   "source": [
    "data = pd.read_csv('data/Schedules_1979-2023.csv')\n",
    "data.head()"
   ]
  },
  {
   "cell_type": "code",
   "execution_count": 6,
   "metadata": {},
   "outputs": [],
   "source": [
    "tm, year = 'NYK', 2017"
   ]
  },
  {
   "cell_type": "code",
   "execution_count": 11,
   "metadata": {},
   "outputs": [],
   "source": [
    "games = data[((data['HomeTm'] == tm) | (data['AwayTm'] == tm)) & (data['Year'] == year)]"
   ]
  },
  {
   "cell_type": "code",
   "execution_count": 16,
   "metadata": {},
   "outputs": [
    {
     "name": "stderr",
     "output_type": "stream",
     "text": [
      "/var/folders/x8/gymrgfns32bd6rd_ksf19p3m0000gn/T/ipykernel_38185/2520116973.py:1: SettingWithCopyWarning: \n",
      "A value is trying to be set on a copy of a slice from a DataFrame.\n",
      "Try using .loc[row_indexer,col_indexer] = value instead\n",
      "\n",
      "See the caveats in the documentation: https://pandas.pydata.org/pandas-docs/stable/user_guide/indexing.html#returning-a-view-versus-a-copy\n",
      "  games['Date'] = pd.to_datetime(games['Date'])\n"
     ]
    }
   ],
   "source": [
    "games['Date'] = pd.to_datetime(games['Date'])"
   ]
  },
  {
   "cell_type": "code",
   "execution_count": 30,
   "metadata": {},
   "outputs": [
    {
     "data": {
      "text/plain": [
       "2.086676954722222"
      ]
     },
     "execution_count": 30,
     "metadata": {},
     "output_type": "execute_result"
    }
   ],
   "source": [
    "games['Date'].diff().mean().total_seconds() / 3600 / 24"
   ]
  },
  {
   "cell_type": "code",
   "execution_count": 33,
   "metadata": {},
   "outputs": [
    {
     "data": {
      "text/plain": [
       "41771   2016-10-25 19:30:00\n",
       "41798   2016-10-29 19:30:00\n",
       "41820   2016-11-01 19:30:00\n",
       "41827   2016-11-02 19:30:00\n",
       "41843   2016-11-04 20:00:00\n",
       "                ...        \n",
       "42929   2017-04-04 20:00:00\n",
       "42946   2017-04-06 19:30:00\n",
       "42952   2017-04-07 20:00:00\n",
       "42966   2017-04-09 12:00:00\n",
       "42988   2017-04-12 20:00:00\n",
       "Name: Date, Length: 82, dtype: datetime64[ns]"
      ]
     },
     "execution_count": 33,
     "metadata": {},
     "output_type": "execute_result"
    }
   ],
   "source": [
    "games['Date']"
   ]
  },
  {
   "cell_type": "code",
   "execution_count": null,
   "metadata": {},
   "outputs": [],
   "source": []
  }
 ],
 "metadata": {
  "kernelspec": {
   "display_name": "Python 3.10.10 ('nbaenv')",
   "language": "python",
   "name": "python3"
  },
  "language_info": {
   "codemirror_mode": {
    "name": "ipython",
    "version": 3
   },
   "file_extension": ".py",
   "mimetype": "text/x-python",
   "name": "python",
   "nbconvert_exporter": "python",
   "pygments_lexer": "ipython3",
   "version": "3.10.10"
  },
  "orig_nbformat": 4,
  "vscode": {
   "interpreter": {
    "hash": "8158d229fe7301e640acb43d488c0efce3cd8ada31ff414dc1808c070c07cefa"
   }
  }
 },
 "nbformat": 4,
 "nbformat_minor": 2
}
