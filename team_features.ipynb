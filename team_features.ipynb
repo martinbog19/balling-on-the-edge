{
 "cells": [
  {
   "cell_type": "code",
   "execution_count": 4,
   "metadata": {},
   "outputs": [],
   "source": [
    "#from functions import Standings\n",
    "import pandas as pd\n",
    "import numpy as np\n",
    "import time"
   ]
  },
  {
   "cell_type": "markdown",
   "metadata": {},
   "source": [
    "### Create csv"
   ]
  },
  {
   "cell_type": "code",
   "execution_count": 4,
   "metadata": {},
   "outputs": [
    {
     "name": "stdout",
     "output_type": "stream",
     "text": [
      "Fetching standings for season 2002-2003 ...\r"
     ]
    },
    {
     "ename": "KeyboardInterrupt",
     "evalue": "",
     "output_type": "error",
     "traceback": [
      "\u001b[0;31m---------------------------------------------------------------------------\u001b[0m",
      "\u001b[0;31mKeyboardInterrupt\u001b[0m                         Traceback (most recent call last)",
      "\u001b[0;32m<ipython-input-4-beab3aa34642>\u001b[0m in \u001b[0;36m<module>\u001b[0;34m\u001b[0m\n\u001b[1;32m      6\u001b[0m     \u001b[0mprint\u001b[0m\u001b[0;34m(\u001b[0m\u001b[0;34mf'Fetching standings for season {year-1}-{year} ...'\u001b[0m\u001b[0;34m,\u001b[0m \u001b[0mend\u001b[0m \u001b[0;34m=\u001b[0m \u001b[0;34m'\\r'\u001b[0m\u001b[0;34m)\u001b[0m\u001b[0;34m\u001b[0m\u001b[0;34m\u001b[0m\u001b[0m\n\u001b[1;32m      7\u001b[0m     \u001b[0mdfs\u001b[0m\u001b[0;34m.\u001b[0m\u001b[0mappend\u001b[0m\u001b[0;34m(\u001b[0m\u001b[0mStandings\u001b[0m\u001b[0;34m(\u001b[0m\u001b[0myear\u001b[0m\u001b[0;34m)\u001b[0m\u001b[0;34m)\u001b[0m\u001b[0;34m\u001b[0m\u001b[0;34m\u001b[0m\u001b[0m\n\u001b[0;32m----> 8\u001b[0;31m     \u001b[0mtime\u001b[0m\u001b[0;34m.\u001b[0m\u001b[0msleep\u001b[0m\u001b[0;34m(\u001b[0m\u001b[0;36m3\u001b[0m\u001b[0;34m)\u001b[0m\u001b[0;34m\u001b[0m\u001b[0;34m\u001b[0m\u001b[0m\n\u001b[0m\u001b[1;32m      9\u001b[0m \u001b[0;34m\u001b[0m\u001b[0m\n\u001b[1;32m     10\u001b[0m \u001b[0mdata\u001b[0m \u001b[0;34m=\u001b[0m \u001b[0mpd\u001b[0m\u001b[0;34m.\u001b[0m\u001b[0mconcat\u001b[0m\u001b[0;34m(\u001b[0m\u001b[0mdfs\u001b[0m\u001b[0;34m)\u001b[0m\u001b[0;34m.\u001b[0m\u001b[0mreset_index\u001b[0m\u001b[0;34m(\u001b[0m\u001b[0mdrop\u001b[0m \u001b[0;34m=\u001b[0m \u001b[0;32mTrue\u001b[0m\u001b[0;34m)\u001b[0m\u001b[0;34m\u001b[0m\u001b[0;34m\u001b[0m\u001b[0m\n",
      "\u001b[0;31mKeyboardInterrupt\u001b[0m: "
     ]
    }
   ],
   "source": [
    "# Create a dataframe with all schedules from 1979-80 to 2022-23\n",
    "years = np.arange(1979, 2024)\n",
    "dfs = []\n",
    "for year in years :\n",
    "\n",
    "    print(f'Fetching standings for season {year-1}-{year} ...', end = '\\r')\n",
    "    dfs.append(Standings(year))\n",
    "    time.sleep(3)\n",
    "\n",
    "data = pd.concat(dfs).reset_index(drop = True)\n",
    "data.to_csv('data/Schedules_1979-2023.csv', index = None)"
   ]
  },
  {
   "cell_type": "code",
   "execution_count": 4,
   "metadata": {},
   "outputs": [],
   "source": [
    "target = pd.read_csv('data/Standings_1979-2023.csv')[['Tm', 'Year', 'W/L%']]\n",
    "target.to_csv('data/target_1979-2023.csv', index = None)"
   ]
  },
  {
   "cell_type": "markdown",
   "metadata": {},
   "source": [
    "## Create team strength features"
   ]
  },
  {
   "cell_type": "code",
   "execution_count": 6,
   "metadata": {},
   "outputs": [
    {
     "data": {
      "text/html": [
       "<div>\n",
       "<style scoped>\n",
       "    .dataframe tbody tr th:only-of-type {\n",
       "        vertical-align: middle;\n",
       "    }\n",
       "\n",
       "    .dataframe tbody tr th {\n",
       "        vertical-align: top;\n",
       "    }\n",
       "\n",
       "    .dataframe thead th {\n",
       "        text-align: right;\n",
       "    }\n",
       "</style>\n",
       "<table border=\"1\" class=\"dataframe\">\n",
       "  <thead>\n",
       "    <tr style=\"text-align: right;\">\n",
       "      <th></th>\n",
       "      <th>Team</th>\n",
       "      <th>Tm</th>\n",
       "      <th>Year</th>\n",
       "      <th>W</th>\n",
       "      <th>L</th>\n",
       "      <th>W/L%</th>\n",
       "      <th>PS/G</th>\n",
       "      <th>PA/G</th>\n",
       "      <th>SRS</th>\n",
       "    </tr>\n",
       "  </thead>\n",
       "  <tbody>\n",
       "    <tr>\n",
       "      <th>0</th>\n",
       "      <td>Washington Bullets</td>\n",
       "      <td>WSB</td>\n",
       "      <td>1979</td>\n",
       "      <td>54</td>\n",
       "      <td>28</td>\n",
       "      <td>0.659</td>\n",
       "      <td>114.9</td>\n",
       "      <td>109.9</td>\n",
       "      <td>4.75</td>\n",
       "    </tr>\n",
       "    <tr>\n",
       "      <th>1</th>\n",
       "      <td>Seattle SuperSonics</td>\n",
       "      <td>SEA</td>\n",
       "      <td>1979</td>\n",
       "      <td>52</td>\n",
       "      <td>30</td>\n",
       "      <td>0.634</td>\n",
       "      <td>106.6</td>\n",
       "      <td>103.9</td>\n",
       "      <td>2.69</td>\n",
       "    </tr>\n",
       "    <tr>\n",
       "      <th>2</th>\n",
       "      <td>Phoenix Suns</td>\n",
       "      <td>PHO</td>\n",
       "      <td>1979</td>\n",
       "      <td>50</td>\n",
       "      <td>32</td>\n",
       "      <td>0.610</td>\n",
       "      <td>115.4</td>\n",
       "      <td>111.7</td>\n",
       "      <td>3.55</td>\n",
       "    </tr>\n",
       "    <tr>\n",
       "      <th>3</th>\n",
       "      <td>San Antonio Spurs</td>\n",
       "      <td>SAS</td>\n",
       "      <td>1979</td>\n",
       "      <td>48</td>\n",
       "      <td>34</td>\n",
       "      <td>0.585</td>\n",
       "      <td>119.3</td>\n",
       "      <td>114.1</td>\n",
       "      <td>4.97</td>\n",
       "    </tr>\n",
       "    <tr>\n",
       "      <th>4</th>\n",
       "      <td>Kansas City Kings</td>\n",
       "      <td>KCK</td>\n",
       "      <td>1979</td>\n",
       "      <td>48</td>\n",
       "      <td>34</td>\n",
       "      <td>0.585</td>\n",
       "      <td>113.1</td>\n",
       "      <td>110.2</td>\n",
       "      <td>2.73</td>\n",
       "    </tr>\n",
       "  </tbody>\n",
       "</table>\n",
       "</div>"
      ],
      "text/plain": [
       "                  Team   Tm  Year   W   L   W/L%   PS/G   PA/G   SRS\n",
       "0   Washington Bullets  WSB  1979  54  28  0.659  114.9  109.9  4.75\n",
       "1  Seattle SuperSonics  SEA  1979  52  30  0.634  106.6  103.9  2.69\n",
       "2         Phoenix Suns  PHO  1979  50  32  0.610  115.4  111.7  3.55\n",
       "3    San Antonio Spurs  SAS  1979  48  34  0.585  119.3  114.1  4.97\n",
       "4    Kansas City Kings  KCK  1979  48  34  0.585  113.1  110.2  2.73"
      ]
     },
     "execution_count": 6,
     "metadata": {},
     "output_type": "execute_result"
    }
   ],
   "source": [
    "data = pd.read_csv('Standings_1979-2023.csv')\n",
    "data.head()"
   ]
  },
  {
   "cell_type": "markdown",
   "metadata": {},
   "source": [
    "### Last wins, Net Rating (=nombre de points - nbr de points encaissés)"
   ]
  },
  {
   "cell_type": "code",
   "execution_count": 101,
   "metadata": {},
   "outputs": [],
   "source": [
    "# Returns dictionary where each team has its own list of dictionaries containing the year, win-loss-%, net-rating and SRS\n",
    "def wins_rating(data,number_years=5):\n",
    "    df_5_years = data[(data['Year'] >= 2023-number_years) & (data['Year'] <= 2023)]\n",
    "    win_loss = {team: [] for team in df_5_years['Tm'].unique()}\n",
    "\n",
    "    for _,row in df_5_years.iterrows():\n",
    "        win_loss[row['Tm']].append({'Year': row['Year'], 'WinLoss': row['W/L%'],'NetRating': row['PS/G']-row['PA/G'], 'SRS': row['SRS']})\n",
    "        #print(win_loss[team])\n",
    "    return win_loss"
   ]
  },
  {
   "cell_type": "code",
   "execution_count": 103,
   "metadata": {},
   "outputs": [],
   "source": [
    "teams_data = wins_rating(data)\n",
    "\n",
    "# Create team_data.csv where each row corresponds to a team and contains columns for each year's win-loss-%, net rating, and SRS\n",
    "def teams_csv(teams_data):\n",
    "    # Transforming the data\n",
    "    rows = []\n",
    "    for team, years_data in teams_data.items():\n",
    "        row = {'Team': team}\n",
    "        for year_data in years_data:\n",
    "            year = year_data['Year']\n",
    "            row[f'WinLoss_{year}'] = year_data['WinLoss']\n",
    "            row[f'NetRating_{year}'] = year_data['NetRating']\n",
    "            row[f'SRS_{year}'] = year_data['SRS']\n",
    "        rows.append(row)\n",
    "\n",
    "    df_teams = pd.DataFrame(rows)\n",
    "\n",
    "    # Fill NaN values if any year data is missing for a team\n",
    "    df_teams.fillna('N/A', inplace=True)\n",
    "\n",
    "    # Export to CSV\n",
    "    df_teams.to_csv('team_data.csv', index=False)\n",
    "\n",
    "teams_csv(teams_data)"
   ]
  }
 ],
 "metadata": {
  "kernelspec": {
   "display_name": "Python 3",
   "language": "python",
   "name": "python3"
  },
  "language_info": {
   "codemirror_mode": {
    "name": "ipython",
    "version": 3
   },
   "file_extension": ".py",
   "mimetype": "text/x-python",
   "name": "python",
   "nbconvert_exporter": "python",
   "pygments_lexer": "ipython3",
   "version": "3.9.6"
  },
  "vscode": {
   "interpreter": {
    "hash": "8158d229fe7301e640acb43d488c0efce3cd8ada31ff414dc1808c070c07cefa"
   }
  }
 },
 "nbformat": 4,
 "nbformat_minor": 2
}
