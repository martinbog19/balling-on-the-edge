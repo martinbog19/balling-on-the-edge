{
 "cells": [
  {
   "cell_type": "code",
   "execution_count": 32,
   "metadata": {},
   "outputs": [],
   "source": [
    "import pandas as pd\n",
    "import matplotlib.pyplot as plt\n",
    "import numpy as np\n",
    "from sklearn.linear_model import LinearRegression\n",
    "from sklearn.metrics import r2_score\n",
    "from sklearn.decomposition import PCA"
   ]
  },
  {
   "cell_type": "code",
   "execution_count": 2,
   "metadata": {},
   "outputs": [
    {
     "data": {
      "text/html": [
       "<div>\n",
       "<style scoped>\n",
       "    .dataframe tbody tr th:only-of-type {\n",
       "        vertical-align: middle;\n",
       "    }\n",
       "\n",
       "    .dataframe tbody tr th {\n",
       "        vertical-align: top;\n",
       "    }\n",
       "\n",
       "    .dataframe thead th {\n",
       "        text-align: right;\n",
       "    }\n",
       "</style>\n",
       "<table border=\"1\" class=\"dataframe\">\n",
       "  <thead>\n",
       "    <tr style=\"text-align: right;\">\n",
       "      <th></th>\n",
       "      <th>Tm</th>\n",
       "      <th>Year</th>\n",
       "      <th>PTS_1</th>\n",
       "      <th>VORP_1</th>\n",
       "      <th>PER_1</th>\n",
       "      <th>WS_1</th>\n",
       "      <th>PTS_2</th>\n",
       "      <th>VORP_2</th>\n",
       "      <th>PER_2</th>\n",
       "      <th>WS_2</th>\n",
       "      <th>...</th>\n",
       "      <th>NRtg_2</th>\n",
       "      <th>SRS_2</th>\n",
       "      <th>WinLoss_1</th>\n",
       "      <th>NRtg_1</th>\n",
       "      <th>SRS_1</th>\n",
       "      <th>Rest</th>\n",
       "      <th>B2B</th>\n",
       "      <th>distLB</th>\n",
       "      <th>distUB</th>\n",
       "      <th>WinLoss</th>\n",
       "    </tr>\n",
       "  </thead>\n",
       "  <tbody>\n",
       "    <tr>\n",
       "      <th>0</th>\n",
       "      <td>BOS</td>\n",
       "      <td>1984</td>\n",
       "      <td>0.722218</td>\n",
       "      <td>1.445467</td>\n",
       "      <td>0.439962</td>\n",
       "      <td>1.151077</td>\n",
       "      <td>1.084341</td>\n",
       "      <td>1.733788</td>\n",
       "      <td>0.145440</td>\n",
       "      <td>0.984298</td>\n",
       "      <td>...</td>\n",
       "      <td>1.560378</td>\n",
       "      <td>1.631836</td>\n",
       "      <td>1.134881</td>\n",
       "      <td>1.120777</td>\n",
       "      <td>1.170642</td>\n",
       "      <td>1.244913</td>\n",
       "      <td>-0.368426</td>\n",
       "      <td>-0.359567</td>\n",
       "      <td>0.043129</td>\n",
       "      <td>0.756</td>\n",
       "    </tr>\n",
       "    <tr>\n",
       "      <th>1</th>\n",
       "      <td>NJN</td>\n",
       "      <td>1984</td>\n",
       "      <td>-0.663271</td>\n",
       "      <td>-0.349592</td>\n",
       "      <td>-0.982110</td>\n",
       "      <td>-0.497881</td>\n",
       "      <td>-0.305562</td>\n",
       "      <td>-0.929770</td>\n",
       "      <td>-1.083423</td>\n",
       "      <td>-1.080527</td>\n",
       "      <td>...</td>\n",
       "      <td>0.168776</td>\n",
       "      <td>0.223381</td>\n",
       "      <td>0.607876</td>\n",
       "      <td>0.581578</td>\n",
       "      <td>0.607197</td>\n",
       "      <td>1.244913</td>\n",
       "      <td>-0.881990</td>\n",
       "      <td>-0.736498</td>\n",
       "      <td>-0.606690</td>\n",
       "      <td>0.549</td>\n",
       "    </tr>\n",
       "    <tr>\n",
       "      <th>2</th>\n",
       "      <td>NYK</td>\n",
       "      <td>1984</td>\n",
       "      <td>-0.941947</td>\n",
       "      <td>-0.510126</td>\n",
       "      <td>-0.788466</td>\n",
       "      <td>-0.509214</td>\n",
       "      <td>0.405433</td>\n",
       "      <td>-0.385286</td>\n",
       "      <td>-0.783936</td>\n",
       "      <td>-0.415986</td>\n",
       "      <td>...</td>\n",
       "      <td>-0.661303</td>\n",
       "      <td>-0.552811</td>\n",
       "      <td>0.229672</td>\n",
       "      <td>0.519363</td>\n",
       "      <td>0.565542</td>\n",
       "      <td>-0.544649</td>\n",
       "      <td>0.401919</td>\n",
       "      <td>-0.657416</td>\n",
       "      <td>-0.641871</td>\n",
       "      <td>0.573</td>\n",
       "    </tr>\n",
       "    <tr>\n",
       "      <th>3</th>\n",
       "      <td>WSB</td>\n",
       "      <td>1984</td>\n",
       "      <td>0.433828</td>\n",
       "      <td>2.233541</td>\n",
       "      <td>2.424811</td>\n",
       "      <td>2.596040</td>\n",
       "      <td>-0.036195</td>\n",
       "      <td>0.468230</td>\n",
       "      <td>0.479706</td>\n",
       "      <td>0.680508</td>\n",
       "      <td>...</td>\n",
       "      <td>0.217604</td>\n",
       "      <td>0.272215</td>\n",
       "      <td>0.074670</td>\n",
       "      <td>-0.019837</td>\n",
       "      <td>0.043753</td>\n",
       "      <td>-0.544649</td>\n",
       "      <td>0.145138</td>\n",
       "      <td>-1.147874</td>\n",
       "      <td>-0.891759</td>\n",
       "      <td>0.427</td>\n",
       "    </tr>\n",
       "    <tr>\n",
       "      <th>4</th>\n",
       "      <td>ATL</td>\n",
       "      <td>1984</td>\n",
       "      <td>-0.340880</td>\n",
       "      <td>-0.977133</td>\n",
       "      <td>-1.989662</td>\n",
       "      <td>-1.319527</td>\n",
       "      <td>-1.051179</td>\n",
       "      <td>-1.400676</td>\n",
       "      <td>-1.759683</td>\n",
       "      <td>-1.664374</td>\n",
       "      <td>...</td>\n",
       "      <td>0.119947</td>\n",
       "      <td>0.207960</td>\n",
       "      <td>0.149071</td>\n",
       "      <td>-0.206483</td>\n",
       "      <td>-0.157948</td>\n",
       "      <td>-0.544649</td>\n",
       "      <td>0.915483</td>\n",
       "      <td>0.116833</td>\n",
       "      <td>-0.361622</td>\n",
       "      <td>0.488</td>\n",
       "    </tr>\n",
       "  </tbody>\n",
       "</table>\n",
       "<p>5 rows × 36 columns</p>\n",
       "</div>"
      ],
      "text/plain": [
       "    Tm  Year     PTS_1    VORP_1     PER_1      WS_1     PTS_2    VORP_2  \\\n",
       "0  BOS  1984  0.722218  1.445467  0.439962  1.151077  1.084341  1.733788   \n",
       "1  NJN  1984 -0.663271 -0.349592 -0.982110 -0.497881 -0.305562 -0.929770   \n",
       "2  NYK  1984 -0.941947 -0.510126 -0.788466 -0.509214  0.405433 -0.385286   \n",
       "3  WSB  1984  0.433828  2.233541  2.424811  2.596040 -0.036195  0.468230   \n",
       "4  ATL  1984 -0.340880 -0.977133 -1.989662 -1.319527 -1.051179 -1.400676   \n",
       "\n",
       "      PER_2      WS_2  ...    NRtg_2     SRS_2  WinLoss_1    NRtg_1     SRS_1  \\\n",
       "0  0.145440  0.984298  ...  1.560378  1.631836   1.134881  1.120777  1.170642   \n",
       "1 -1.083423 -1.080527  ...  0.168776  0.223381   0.607876  0.581578  0.607197   \n",
       "2 -0.783936 -0.415986  ... -0.661303 -0.552811   0.229672  0.519363  0.565542   \n",
       "3  0.479706  0.680508  ...  0.217604  0.272215   0.074670 -0.019837  0.043753   \n",
       "4 -1.759683 -1.664374  ...  0.119947  0.207960   0.149071 -0.206483 -0.157948   \n",
       "\n",
       "       Rest       B2B    distLB    distUB  WinLoss  \n",
       "0  1.244913 -0.368426 -0.359567  0.043129    0.756  \n",
       "1  1.244913 -0.881990 -0.736498 -0.606690    0.549  \n",
       "2 -0.544649  0.401919 -0.657416 -0.641871    0.573  \n",
       "3 -0.544649  0.145138 -1.147874 -0.891759    0.427  \n",
       "4 -0.544649  0.915483  0.116833 -0.361622    0.488  \n",
       "\n",
       "[5 rows x 36 columns]"
      ]
     },
     "execution_count": 2,
     "metadata": {},
     "output_type": "execute_result"
    }
   ],
   "source": [
    "data = pd.read_csv('data/final_data.csv')\n",
    "data.dropna(inplace = True)\n",
    "data.head()"
   ]
  },
  {
   "cell_type": "code",
   "execution_count": 10,
   "metadata": {},
   "outputs": [],
   "source": [
    "train = data.copy()[data['Year'] <= 2013]\n",
    "test = data.copy()[data['Year'] > 2013]"
   ]
  },
  {
   "cell_type": "code",
   "execution_count": 11,
   "metadata": {},
   "outputs": [],
   "source": [
    "X_train, y_train = train.drop(columns = ['Tm', 'Year', 'WinLoss']), train['WinLoss']\n",
    "X_test, y_test = test.drop(columns = ['Tm', 'Year', 'WinLoss']), test['WinLoss']"
   ]
  },
  {
   "cell_type": "code",
   "execution_count": 28,
   "metadata": {},
   "outputs": [
    {
     "data": {
      "text/plain": [
       "0.41558999682904807"
      ]
     },
     "execution_count": 28,
     "metadata": {},
     "output_type": "execute_result"
    }
   ],
   "source": [
    "reg = LinearRegression()\n",
    "reg.fit(X_train, y_train)\n",
    "y_pred = reg.predict(X_test)\n",
    "r2_score(y_test, y_pred)"
   ]
  },
  {
   "cell_type": "code",
   "execution_count": 56,
   "metadata": {},
   "outputs": [
    {
     "data": {
      "image/png": "[encoded data removed]",
      "text/plain": [
       "<Figure size 640x480 with 1 Axes>"
      ]
     },
     "metadata": {},
     "output_type": "display_data"
    }
   ],
   "source": [
    "pca = PCA()\n",
    "pca.fit(X_train)\n",
    "ks = np.arange(1, X_train.shape[1] + 1)\n",
    "plt.plot(ks, np.cumsum(pca.explained_variance_ratio_), 'k-o', linewidth = 3)\n",
    "plt.plot([1, X_train.shape[1]], [.95, .95], zorder = -1, linestyle = '--', c = 'red')\n",
    "plt.grid()\n",
    "plt.show()"
   ]
  },
  {
   "cell_type": "code",
   "execution_count": 57,
   "metadata": {},
   "outputs": [],
   "source": [
    "R2 = []\n",
    "for k in ks :\n",
    "    X_train_norm = pca.transform(X_train)[:,:k]\n",
    "    X_test_norm = pca.transform(X_test)[:,:k]\n",
    "\n",
    "    reg = LinearRegression()\n",
    "    reg.fit(X_train_norm, y_train)\n",
    "    y_pred = reg.predict(X_test_norm)\n",
    "    R2.append(r2_score(y_test, y_pred))"
   ]
  },
  {
   "cell_type": "code",
   "execution_count": 63,
   "metadata": {},
   "outputs": [
    {
     "data": {
      "text/plain": [
       "[<matplotlib.lines.Line2D at 0x7fd7ea648100>]"
      ]
     },
     "execution_count": 63,
     "metadata": {},
     "output_type": "execute_result"
    },
    {
     "data": {
      "image/png": "[encoded data removed]",
      "text/plain": [
       "<Figure size 640x480 with 1 Axes>"
      ]
     },
     "metadata": {},
     "output_type": "display_data"
    }
   ],
   "source": [
    "plt.plot(ks, R2, 'k-o', linewidth = 3)\n",
    "# There seems to be a only a slight edge at around 15 principal components"
   ]
  },
  {
   "cell_type": "code",
   "execution_count": 81,
   "metadata": {},
   "outputs": [],
   "source": [
    "pred_df = test.copy()[['Year', 'Tm', 'WinLoss', 'Pred']].rename(columns = {'WinLoss': 'Real'})\n",
    "pred_df['Real'] = round(pred_df['Real'] * 82)\n",
    "pred_df['Pred'] = pred_df['Pred'] * 82"
   ]
  },
  {
   "cell_type": "code",
   "execution_count": 83,
   "metadata": {},
   "outputs": [],
   "source": [
    "pred_df.to_csv('data/pred_test_LR.csv', index = None)"
   ]
  },
  {
   "cell_type": "code",
   "execution_count": null,
   "metadata": {},
   "outputs": [],
   "source": []
  }
 ],
 "metadata": {
  "kernelspec": {
   "display_name": "Python 3.10.10 ('nbaenv')",
   "language": "python",
   "name": "python3"
  },
  "language_info": {
   "codemirror_mode": {
    "name": "ipython",
    "version": 3
   },
   "file_extension": ".py",
   "mimetype": "text/x-python",
   "name": "python",
   "nbconvert_exporter": "python",
   "pygments_lexer": "ipython3",
   "version": "3.10.10"
  },
  "orig_nbformat": 4,
  "vscode": {
   "interpreter": {
    "hash": "8158d229fe7301e640acb43d488c0efce3cd8ada31ff414dc1808c070c07cefa"
   }
  }
 },
 "nbformat": 4,
 "nbformat_minor": 2
}
