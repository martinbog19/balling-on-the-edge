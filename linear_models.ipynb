{
 "cells": [
  {
   "cell_type": "code",
   "execution_count": 93,
   "metadata": {},
   "outputs": [],
   "source": [
    "import pandas as pd\n",
    "import matplotlib.pyplot as plt\n",
    "import numpy as np\n",
    "from sklearn.linear_model import LinearRegression\n",
    "from sklearn.metrics import r2_score\n",
    "from sklearn.decomposition import PCA"
   ]
  },
  {
   "cell_type": "code",
   "execution_count": 98,
   "metadata": {},
   "outputs": [
    {
     "data": {
      "text/html": [
       "<div>\n",
       "<style scoped>\n",
       "    .dataframe tbody tr th:only-of-type {\n",
       "        vertical-align: middle;\n",
       "    }\n",
       "\n",
       "    .dataframe tbody tr th {\n",
       "        vertical-align: top;\n",
       "    }\n",
       "\n",
       "    .dataframe thead th {\n",
       "        text-align: right;\n",
       "    }\n",
       "</style>\n",
       "<table border=\"1\" class=\"dataframe\">\n",
       "  <thead>\n",
       "    <tr style=\"text-align: right;\">\n",
       "      <th></th>\n",
       "      <th>Tm</th>\n",
       "      <th>Year</th>\n",
       "      <th>PTS_1</th>\n",
       "      <th>VORP_1</th>\n",
       "      <th>PER_1</th>\n",
       "      <th>WS_1</th>\n",
       "      <th>PTS_2</th>\n",
       "      <th>VORP_2</th>\n",
       "      <th>PER_2</th>\n",
       "      <th>WS_2</th>\n",
       "      <th>...</th>\n",
       "      <th>NRtg_2</th>\n",
       "      <th>SRS_2</th>\n",
       "      <th>WinLoss_1</th>\n",
       "      <th>NRtg_1</th>\n",
       "      <th>SRS_1</th>\n",
       "      <th>Rest</th>\n",
       "      <th>B2B</th>\n",
       "      <th>distLB</th>\n",
       "      <th>distUB</th>\n",
       "      <th>WinLoss</th>\n",
       "    </tr>\n",
       "  </thead>\n",
       "  <tbody>\n",
       "    <tr>\n",
       "      <th>0</th>\n",
       "      <td>BOS</td>\n",
       "      <td>1984</td>\n",
       "      <td>0.691282</td>\n",
       "      <td>1.306881</td>\n",
       "      <td>0.415070</td>\n",
       "      <td>1.050208</td>\n",
       "      <td>0.931111</td>\n",
       "      <td>1.223837</td>\n",
       "      <td>0.082140</td>\n",
       "      <td>0.793457</td>\n",
       "      <td>...</td>\n",
       "      <td>1.560378</td>\n",
       "      <td>1.631836</td>\n",
       "      <td>0.683</td>\n",
       "      <td>1.120777</td>\n",
       "      <td>1.170642</td>\n",
       "      <td>1.244913</td>\n",
       "      <td>-0.368426</td>\n",
       "      <td>-0.359567</td>\n",
       "      <td>0.043129</td>\n",
       "      <td>0.756</td>\n",
       "    </tr>\n",
       "    <tr>\n",
       "      <th>1</th>\n",
       "      <td>NJN</td>\n",
       "      <td>1984</td>\n",
       "      <td>-0.704902</td>\n",
       "      <td>-0.408742</td>\n",
       "      <td>-1.024888</td>\n",
       "      <td>-0.549483</td>\n",
       "      <td>-0.370323</td>\n",
       "      <td>-0.862499</td>\n",
       "      <td>-1.121805</td>\n",
       "      <td>-1.075314</td>\n",
       "      <td>...</td>\n",
       "      <td>0.168776</td>\n",
       "      <td>0.223381</td>\n",
       "      <td>0.598</td>\n",
       "      <td>0.581578</td>\n",
       "      <td>0.607197</td>\n",
       "      <td>1.244913</td>\n",
       "      <td>-0.881990</td>\n",
       "      <td>-0.736498</td>\n",
       "      <td>-0.606690</td>\n",
       "      <td>0.549</td>\n",
       "    </tr>\n",
       "    <tr>\n",
       "      <th>2</th>\n",
       "      <td>NYK</td>\n",
       "      <td>1984</td>\n",
       "      <td>-0.985729</td>\n",
       "      <td>-0.562171</td>\n",
       "      <td>-0.828808</td>\n",
       "      <td>-0.560477</td>\n",
       "      <td>0.295417</td>\n",
       "      <td>-0.436011</td>\n",
       "      <td>-0.828391</td>\n",
       "      <td>-0.473870</td>\n",
       "      <td>...</td>\n",
       "      <td>-0.661303</td>\n",
       "      <td>-0.552811</td>\n",
       "      <td>0.537</td>\n",
       "      <td>0.519363</td>\n",
       "      <td>0.565542</td>\n",
       "      <td>-0.544649</td>\n",
       "      <td>0.401919</td>\n",
       "      <td>-0.657416</td>\n",
       "      <td>-0.641871</td>\n",
       "      <td>0.573</td>\n",
       "    </tr>\n",
       "    <tr>\n",
       "      <th>3</th>\n",
       "      <td>PHI</td>\n",
       "      <td>1984</td>\n",
       "      <td>0.803246</td>\n",
       "      <td>1.641637</td>\n",
       "      <td>0.669361</td>\n",
       "      <td>1.462499</td>\n",
       "      <td>1.852632</td>\n",
       "      <td>2.952845</td>\n",
       "      <td>1.327730</td>\n",
       "      <td>2.142409</td>\n",
       "      <td>...</td>\n",
       "      <td>1.389480</td>\n",
       "      <td>1.475055</td>\n",
       "      <td>0.793</td>\n",
       "      <td>1.597761</td>\n",
       "      <td>1.650775</td>\n",
       "      <td>1.244913</td>\n",
       "      <td>0.401919</td>\n",
       "      <td>-1.004836</td>\n",
       "      <td>-0.809547</td>\n",
       "      <td>0.634</td>\n",
       "    </tr>\n",
       "    <tr>\n",
       "      <th>4</th>\n",
       "      <td>WSB</td>\n",
       "      <td>1984</td>\n",
       "      <td>0.400665</td>\n",
       "      <td>2.060082</td>\n",
       "      <td>2.424884</td>\n",
       "      <td>2.451998</td>\n",
       "      <td>-0.118101</td>\n",
       "      <td>0.232539</td>\n",
       "      <td>0.409628</td>\n",
       "      <td>0.518512</td>\n",
       "      <td>...</td>\n",
       "      <td>0.217604</td>\n",
       "      <td>0.272215</td>\n",
       "      <td>0.512</td>\n",
       "      <td>-0.019837</td>\n",
       "      <td>0.043753</td>\n",
       "      <td>-0.544649</td>\n",
       "      <td>0.145138</td>\n",
       "      <td>-1.147874</td>\n",
       "      <td>-0.891759</td>\n",
       "      <td>0.427</td>\n",
       "    </tr>\n",
       "  </tbody>\n",
       "</table>\n",
       "<p>5 rows × 36 columns</p>\n",
       "</div>"
      ],
      "text/plain": [
       "    Tm  Year     PTS_1    VORP_1     PER_1      WS_1     PTS_2    VORP_2  \\\n",
       "0  BOS  1984  0.691282  1.306881  0.415070  1.050208  0.931111  1.223837   \n",
       "1  NJN  1984 -0.704902 -0.408742 -1.024888 -0.549483 -0.370323 -0.862499   \n",
       "2  NYK  1984 -0.985729 -0.562171 -0.828808 -0.560477  0.295417 -0.436011   \n",
       "3  PHI  1984  0.803246  1.641637  0.669361  1.462499  1.852632  2.952845   \n",
       "4  WSB  1984  0.400665  2.060082  2.424884  2.451998 -0.118101  0.232539   \n",
       "\n",
       "      PER_2      WS_2  ...    NRtg_2     SRS_2  WinLoss_1    NRtg_1     SRS_1  \\\n",
       "0  0.082140  0.793457  ...  1.560378  1.631836      0.683  1.120777  1.170642   \n",
       "1 -1.121805 -1.075314  ...  0.168776  0.223381      0.598  0.581578  0.607197   \n",
       "2 -0.828391 -0.473870  ... -0.661303 -0.552811      0.537  0.519363  0.565542   \n",
       "3  1.327730  2.142409  ...  1.389480  1.475055      0.793  1.597761  1.650775   \n",
       "4  0.409628  0.518512  ...  0.217604  0.272215      0.512 -0.019837  0.043753   \n",
       "\n",
       "       Rest       B2B    distLB    distUB  WinLoss  \n",
       "0  1.244913 -0.368426 -0.359567  0.043129    0.756  \n",
       "1  1.244913 -0.881990 -0.736498 -0.606690    0.549  \n",
       "2 -0.544649  0.401919 -0.657416 -0.641871    0.573  \n",
       "3  1.244913  0.401919 -1.004836 -0.809547    0.634  \n",
       "4 -0.544649  0.145138 -1.147874 -0.891759    0.427  \n",
       "\n",
       "[5 rows x 36 columns]"
      ]
     },
     "execution_count": 98,
     "metadata": {},
     "output_type": "execute_result"
    }
   ],
   "source": [
    "data = pd.read_csv('data/final_data.csv')\n",
    "data.dropna(inplace = True)\n",
    "data.head()"
   ]
  },
  {
   "cell_type": "code",
   "execution_count": 99,
   "metadata": {},
   "outputs": [],
   "source": [
    "train = data.copy()[data['Year'] <= 2013]\n",
    "test = data.copy()[data['Year'] > 2013]"
   ]
  },
  {
   "cell_type": "code",
   "execution_count": 100,
   "metadata": {},
   "outputs": [],
   "source": [
    "X_train, y_train = train.drop(columns = ['Tm', 'Year', 'WinLoss']), train['WinLoss']\n",
    "X_test, y_test = test.drop(columns = ['Tm', 'Year', 'WinLoss']), test['WinLoss']"
   ]
  },
  {
   "cell_type": "code",
   "execution_count": 101,
   "metadata": {},
   "outputs": [
    {
     "data": {
      "text/plain": [
       "0.43583164498067684"
      ]
     },
     "execution_count": 101,
     "metadata": {},
     "output_type": "execute_result"
    }
   ],
   "source": [
    "reg = LinearRegression()\n",
    "reg.fit(X_train, y_train)\n",
    "y_pred = reg.predict(X_test)\n",
    "r2_score(y_test, y_pred)"
   ]
  },
  {
   "cell_type": "code",
   "execution_count": 102,
   "metadata": {},
   "outputs": [
    {
     "data": {
      "image/png": "[encoded data removed]",
      "text/plain": [
       "<Figure size 640x480 with 1 Axes>"
      ]
     },
     "metadata": {},
     "output_type": "display_data"
    }
   ],
   "source": [
    "pca = PCA()\n",
    "pca.fit(X_train)\n",
    "ks = np.arange(1, X_train.shape[1] + 1)\n",
    "plt.plot(ks, np.cumsum(pca.explained_variance_ratio_), 'k-o', linewidth = 3)\n",
    "plt.plot([1, X_train.shape[1]], [.95, .95], zorder = -1, linestyle = '--', c = 'red')\n",
    "plt.grid()\n",
    "plt.show()"
   ]
  },
  {
   "cell_type": "code",
   "execution_count": 103,
   "metadata": {},
   "outputs": [],
   "source": [
    "R2 = []\n",
    "for k in ks :\n",
    "    X_train_norm = pca.transform(X_train)[:,:k]\n",
    "    X_test_norm = pca.transform(X_test)[:,:k]\n",
    "\n",
    "    reg = LinearRegression()\n",
    "    reg.fit(X_train_norm, y_train)\n",
    "    y_pred = reg.predict(X_test_norm)\n",
    "    R2.append(r2_score(y_test, y_pred))"
   ]
  },
  {
   "cell_type": "code",
   "execution_count": 104,
   "metadata": {},
   "outputs": [
    {
     "data": {
      "text/plain": [
       "[<matplotlib.lines.Line2D at 0x7fd7f9ea6530>]"
      ]
     },
     "execution_count": 104,
     "metadata": {},
     "output_type": "execute_result"
    },
    {
     "data": {
      "image/png": "[encoded data removed]",
      "text/plain": [
       "<Figure size 640x480 with 1 Axes>"
      ]
     },
     "metadata": {},
     "output_type": "display_data"
    }
   ],
   "source": [
    "plt.plot(ks, R2, 'k-o', linewidth = 3)\n",
    "# There seems to be a only a slight edge at around 15 principal components"
   ]
  },
  {
   "cell_type": "code",
   "execution_count": 106,
   "metadata": {},
   "outputs": [],
   "source": [
    "test['Pred'] = y_pred\n",
    "pred_df = test.copy()[['Year', 'Tm', 'WinLoss', 'Pred']].rename(columns = {'WinLoss': 'Real'})\n",
    "pred_df['Real'] = round(pred_df['Real'] * 82)\n",
    "pred_df['Pred'] = pred_df['Pred'] * 82"
   ]
  },
  {
   "cell_type": "code",
   "execution_count": 107,
   "metadata": {},
   "outputs": [],
   "source": [
    "pred_df.to_csv('data/pred_test_LR.csv', index = None)"
   ]
  },
  {
   "cell_type": "code",
   "execution_count": null,
   "metadata": {},
   "outputs": [],
   "source": []
  }
 ],
 "metadata": {
  "kernelspec": {
   "display_name": "Python 3.10.10 ('nbaenv')",
   "language": "python",
   "name": "python3"
  },
  "language_info": {
   "codemirror_mode": {
    "name": "ipython",
    "version": 3
   },
   "file_extension": ".py",
   "mimetype": "text/x-python",
   "name": "python",
   "nbconvert_exporter": "python",
   "pygments_lexer": "ipython3",
   "version": "3.10.10"
  },
  "orig_nbformat": 4,
  "vscode": {
   "interpreter": {
    "hash": "8158d229fe7301e640acb43d488c0efce3cd8ada31ff414dc1808c070c07cefa"
   }
  }
 },
 "nbformat": 4,
 "nbformat_minor": 2
}
